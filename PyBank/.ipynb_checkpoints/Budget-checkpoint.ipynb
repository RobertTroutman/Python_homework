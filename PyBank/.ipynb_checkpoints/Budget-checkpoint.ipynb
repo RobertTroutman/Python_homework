{
 "cells": [
  {
   "cell_type": "code",
   "execution_count": 149,
   "metadata": {},
   "outputs": [],
   "source": [
    "#import Path from pathlib, as well as import csv and os.\n",
    "from pathlib import Path\n",
    "import csv\n",
    "import os"
   ]
  },
  {
   "cell_type": "code",
   "execution_count": 150,
   "metadata": {},
   "outputs": [],
   "source": [
    "#Set the file path\n",
    "csv_path = Path('Budget_data.csv')"
   ]
  },
  {
   "cell_type": "code",
   "execution_count": 151,
   "metadata": {},
   "outputs": [
    {
     "name": "stdout",
     "output_type": "stream",
     "text": [
      "Financial Analysis\n",
      "---------------------\n",
      "Total Months: 86\n",
      "Total: $38382578\n",
      "Average Change: $-2315\n",
      "Greatest Increase in Profits: Feb-2012 ($1926159)\n",
      "Greatest Decrease in Profits: Sep-2013 ($-2196167)\n"
     ]
    }
   ],
   "source": [
    "#Set your variables and lists, some may need to be added along the way.\n",
    "line_num = 0\n",
    "total_months = 0\n",
    "net_total = 0\n",
    "profitloss_change =  0\n",
    "previous_month = 0\n",
    "current_month = 0\n",
    "\n",
    "revenue_change_list = []\n",
    "months_list = []\n",
    "\n",
    "#Open your file with\n",
    "with open(csv_path, newline=\"\") as file:\n",
    "    csvreader = csv.reader(file, delimiter=',')\n",
    "    csv_header = next(csvreader)\n",
    "    line_num += 1\n",
    "    \n",
    "#Run a For loop in csvreader to place profitloss_changes in a list; set variables: 'totaL_months', 'current_month', 'net_total'\n",
    "    for row in csvreader:\n",
    "        total_months += 1\n",
    "        current_month = int(row[1])\n",
    "        net_total += current_month\n",
    "        \n",
    "        if total_months == 1:\n",
    "            previous_month = current_month\n",
    "        \n",
    "        else:\n",
    "            profitloss_change = current_month - previous_month\n",
    "            revenue_change_list.append(profitloss_change)\n",
    "            previous_month = current_month\n",
    "            months_list.append(row[0])\n",
    "            \n",
    "    revenue_sum = sum(revenue_change_list)\n",
    "#Calculate the average (round to the nearest 2 decimal places)\n",
    "    average_change = round((revenue_sum/(total_months-1)), 2)\n",
    "#Set variables for 'greatest_increase', 'greatest_increase_date',\n",
    "    greatest_increase = max(revenue_change_list)\n",
    "    greatest_increase_date = revenue_change_list.index(greatest_increase)\n",
    "    greatest_date = months_list[greatest_increase_date]\n",
    "    greatest_decrease = min(revenue_change_list)\n",
    "    greatest_decrease_date = revenue_change_list.index(greatest_decrease)\n",
    "    worst_date = months_list[greatest_decrease_date]\n",
    "#Print out Financial Analysis Data\n",
    "print(\"Financial Analysis\")\n",
    "print(\"---------------------\")\n",
    "print(f\"Total Months: {int(total_months)}\")\n",
    "print(f\"Total: ${int(net_total)}\")\n",
    "print(f\"Average Change: ${int(average_change)}\")\n",
    "print(f\"Greatest Increase in Profits: {str(greatest_date)} (${int(greatest_increase)})\")\n",
    "print(f\"Greatest Decrease in Profits: {str(worst_date)} (${int(greatest_decrease)})\")"
   ]
  },
  {
   "cell_type": "code",
   "execution_count": 153,
   "metadata": {},
   "outputs": [],
   "source": [
    "#Set Path for output.txt\n",
    "output_path = Path('output.ipynb')\n",
    "\n",
    "#Open the output path as a file object\n",
    "with open(output_path, 'w') as output_file:\n",
    "    output_file.write(\"Financial Analysis\\n\")\n",
    "    output_file.write(\"---------------------\\n\")\n",
    "    output_file.write(f\"Total Months: {int(total_months)}\\n\")\n",
    "    output_file.write(f\"Total: ${int(net_total)}\\n\")\n",
    "    output_file.write(f\"Average Change: ${int(average_change)}\\n\")\n",
    "    output_file.write(f\"Greatest Increase in Profits: {str(greatest_date)} (${int(greatest_increase)})\\n\")\n",
    "    output_file.write(f\"Greatest Decrease in Profits: {str(worst_date)} (${int(greatest_decrease)}\\n\")\n",
    "    "
   ]
  },
  {
   "cell_type": "code",
   "execution_count": null,
   "metadata": {},
   "outputs": [],
   "source": []
  }
 ],
 "metadata": {
  "kernelspec": {
   "display_name": "Python 3",
   "language": "python",
   "name": "python3"
  },
  "language_info": {
   "codemirror_mode": {
    "name": "ipython",
    "version": 3
   },
   "file_extension": ".py",
   "mimetype": "text/x-python",
   "name": "python",
   "nbconvert_exporter": "python",
   "pygments_lexer": "ipython3",
   "version": "3.8.3"
  }
 },
 "nbformat": 4,
 "nbformat_minor": 4
}
